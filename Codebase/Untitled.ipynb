{
 "cells": [
  {
   "cell_type": "code",
   "execution_count": 1,
   "metadata": {},
   "outputs": [],
   "source": [
    "import numpy as np\n",
    "import scipy as sp\n",
    "import scipy.optimize as sp_opt"
   ]
  },
  {
   "cell_type": "code",
   "execution_count": 8,
   "metadata": {},
   "outputs": [],
   "source": [
    "def first_funct(t):\n",
    "    return t + 5\n",
    "\n",
    "def second_funct(t):\n",
    "    return 2*t\n",
    "\n",
    "def third_funct(t):\n",
    "    return t - 2"
   ]
  },
  {
   "cell_type": "code",
   "execution_count": 9,
   "metadata": {},
   "outputs": [],
   "source": [
    "def main_funct(x,y,z):\n",
    "    return x + 2*y - z"
   ]
  },
  {
   "cell_type": "code",
   "execution_count": 10,
   "metadata": {},
   "outputs": [],
   "source": [
    "def super_funct(t):\n",
    "    return main_funct(first_funct(t),second_funct(t),third_funct(t))"
   ]
  },
  {
   "cell_type": "code",
   "execution_count": 11,
   "metadata": {},
   "outputs": [
    {
     "data": {
      "text/plain": [
       "7"
      ]
     },
     "execution_count": 11,
     "metadata": {},
     "output_type": "execute_result"
    }
   ],
   "source": [
    "super_funct(0)"
   ]
  },
  {
   "cell_type": "code",
   "execution_count": 12,
   "metadata": {},
   "outputs": [
    {
     "data": {
      "text/plain": [
       "7"
      ]
     },
     "execution_count": 12,
     "metadata": {},
     "output_type": "execute_result"
    }
   ],
   "source": [
    "5 + 2*0 - (-2)"
   ]
  },
  {
   "cell_type": "code",
   "execution_count": 17,
   "metadata": {},
   "outputs": [
    {
     "name": "stdout",
     "output_type": "stream",
     "text": [
      "[-2.73205081 -2.73205081 -1.         -1.         -1.          0.73205081\n",
      "  0.73205081  0.73205081  0.73205081  0.73205081]\n",
      "[-2.73205081 -1.        ]\n",
      "[-1.          0.73205081]\n"
     ]
    }
   ],
   "source": [
    "def fx(x):\n",
    "    return x**3 + 3*x**2 - 2\n",
    "\n",
    "roots = sp_opt.fsolve(fx,np.linspace(-3,3,10),xtol=1e-10)\n",
    "sort_roots = np.sort(roots)\n",
    "print(sort_roots)\n",
    "\n",
    "tol_truth_table = (np.abs(sort_roots[1:] - sort_roots[:-1])) > 1e-8\n",
    "print(sort_roots[:-1][tol_truth_table])\n",
    "print(sort_roots[1:][tol_truth_table])"
   ]
  },
  {
   "cell_type": "code",
   "execution_count": null,
   "metadata": {},
   "outputs": [],
   "source": []
  }
 ],
 "metadata": {
  "kernelspec": {
   "display_name": "Python 3",
   "language": "python",
   "name": "python3"
  },
  "language_info": {
   "codemirror_mode": {
    "name": "ipython",
    "version": 3
   },
   "file_extension": ".py",
   "mimetype": "text/x-python",
   "name": "python",
   "nbconvert_exporter": "python",
   "pygments_lexer": "ipython3",
   "version": "3.6.5"
  }
 },
 "nbformat": 4,
 "nbformat_minor": 2
}
