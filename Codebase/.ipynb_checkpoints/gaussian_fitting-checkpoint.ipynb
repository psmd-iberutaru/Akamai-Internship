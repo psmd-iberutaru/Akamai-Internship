{
 "cells": [
  {
   "cell_type": "code",
   "execution_count": 36,
   "metadata": {},
   "outputs": [],
   "source": [
    "import numpy as np\n",
    "import scipy as sp\n",
    "import scipy.optimize as sp_opt\n",
    "import scipy.signal as sp_sig\n",
    "import matplotlib.pyplot as plt\n",
    "\n",
    "import Robustness.validation as valid\n",
    "import gaussian_fitting as gaussfit"
   ]
  },
  {
   "cell_type": "code",
   "execution_count": null,
   "metadata": {},
   "outputs": [],
   "source": [
    "# Define the number of data points.\n",
    "n_datapoints=100\n",
    "\n",
    "# Generate the noisy gaussian, use the default options execpt for the data points.\n",
    "x_values,y_values = gaussfit.generate_noisy_gaussian(0,1,0,n_datapoints=n_datapoints)\n",
    "\n",
    "# Generate a fit of the noisy gaussian data.\n",
    "fit_parameters,covariance = gaussfit.fit_gaussian(x_values,y_values)\n",
    "\n",
    "# Reassign the fit parameters, generate values to plot the gaussian function.\n",
    "fit_mean,fit_std_dev,fit_height = fit_parameters\n",
    "fit_x_values = np.linspace(-3,3,n_datapoints*10)\n",
    "fit_y_values = gaussfit.gaussian_function(fit_x_values,fit_mean,fit_std_dev,fit_height)\n",
    "\n",
    "# Plot the information of the generated gaussian data and the fit.\n",
    "plt.plot(x_values,y_values,'.',label='Generated Data')\n",
    "plt.plot(fit_x_values,fit_y_values,label='Gaussian Fit')\n",
    "plt.legend()\n",
    "plt.show()\n",
    "\n",
    "# Print the values of the fitted parameters.\n",
    "print('Central Mean:  ',fit_parameters[0])\n",
    "print('Std dev:  ',fit_parameters[1])\n",
    "print('Height:  ',fit_parameters[2])"
   ]
  },
  {
   "cell_type": "code",
   "execution_count": null,
   "metadata": {},
   "outputs": [],
   "source": [
    "# Using Monte-Carlo methods for testing.\n",
    "bin_size = 10000\n",
    "bin_count = 1000\n",
    "\n",
    "# Delta parameters\n",
    "delta_mean = 1e-3\n",
    "delta_std_dev = 1e-3\n",
    "delta_height = 1e-3\n",
    "\n",
    "# Inital conditions\n",
    "test_mean = 1\n",
    "test_std_dev = 1\n",
    "test_height = 0\n",
    "\n",
    "# Generate a large dataset of potenial points and their results+noise.\n",
    "n_datapoints = 1000000\n",
    "x_domain = [-3,3]\n",
    "#noise_domain = [-1,1]\n",
    "max_absolute_noise = 10\n",
    "test_count = 1000\n",
    "\n",
    "# Extra stuff to ensure there is no uneeded loop time\n",
    "mean_break = False\n",
    "std_dev_break = False\n",
    "height_break = False\n",
    "\n",
    "# Test the algorithim under increasing values of the noise domain.\n",
    "for noisedex in np.linspace(0,max_absolute_noise,test_count):\n",
    "    noise_domain = [-noisedex,noisedex]\n",
    "    \n",
    "    # Archive the information data to conduct stats.\n",
    "    list_fit_mean = []\n",
    "    list_fit_std_dev = []\n",
    "    list_fit_height = []\n",
    "    \n",
    "    x_value_array,y_value_array = generate_noisy_gaussian(mean=test_mean,std_dev=test_std_dev,height=test_height,\n",
    "                                                      x_domain=x_domain,noise_domain=noise_domain,\n",
    "                                                      n_datapoints=n_datapoints)\n",
    "\n",
    "    # From the dataset, generate the bins from random values, double sampling \n",
    "    # between bins is allowed.\n",
    "    for bindex in range(bin_count):\n",
    "        # Create a list of random indexes and extract a subset of the data.\n",
    "        selected_indexes = np.random.randint(0,n_datapoints,size=bin_size)\n",
    "        x_values_bin = np.array(x_value_array[selected_indexes])\n",
    "        y_values_bin = np.array(y_value_array[selected_indexes])\n",
    "        \n",
    "        # Fit the values in each bin with a gaussian fit.\n",
    "        fit_parameters,covariance = fit_gaussian(x_values_bin,y_values_bin)\n",
    "        \"\"\"\n",
    "        # Generate an array for plotting values. Reusing the n_datapoints variable.\n",
    "        plotting_x_values = np.linspace(x_domain[0],x_domain[-1],n_datapoints)\n",
    "        plotting_y_values = gaussian_function(plotting_x_values,\n",
    "                                          fit_parameters[0],fit_parameters[1],fit_parameters[2])\n",
    "        \n",
    "        # Print the information\n",
    "        # Plot the information of the generated gaussian data and the fit.\n",
    "        plt.plot(x_values_bin,y_values_bin,'.',label='Generated Data')\n",
    "        plt.plot(plotting_x_values,plotting_y_values,label='Gaussian Fit')\n",
    "        plt.legend()\n",
    "        plt.show()\n",
    "        \n",
    "        # Print the values of the fitted parameters.\n",
    "        print('Central Mean:  ',fit_parameters[0])\n",
    "        print('Std dev:  ',fit_parameters[1])\n",
    "        print('Height:  ',fit_parameters[2])\n",
    "    \n",
    "        # A dividing line for easier reading.\n",
    "        print('==========================================')\n",
    "        \"\"\"\n",
    "        \n",
    "        # Save the fit parameters for the current run.\n",
    "        list_fit_mean.append(fit_parameters[0])\n",
    "        list_fit_std_dev.append(fit_parameters[1])\n",
    "        list_fit_height.append(fit_parameters[2])\n",
    "    \n",
    "        # Remove unneeded values (just to make sure it is not repeated).\n",
    "        del selected_indexes,fit_parameters\n",
    "        #print(bindex)\n",
    "    \n",
    "    # Test the averages of the fitted values and see if the difference is too large.\n",
    "    if (np.abs(np.average(list_fit_mean) - test_mean) > delta_mean):\n",
    "        print('Mean failed at a noisedex of  ', noisedex)\n",
    "        mean_break = True\n",
    "    if (np.abs(np.average(list_fit_std_dev) - test_std_dev) > delta_std_dev):\n",
    "        print('Std Dev failed at a noisedex of  ', noisedex)\n",
    "        std_dev_break = True\n",
    "    if (np.abs(np.average(list_fit_height) - test_height) > delta_height):\n",
    "        print('Height failed at a noisedex of  ', noisedex)\n",
    "        height_break = True\n",
    "        \n",
    "    # If all three values broke, end the loop.\n",
    "    if (mean_break and std_dev_break and height_break):\n",
    "        print('End!')\n",
    "        break\n",
    "    else:\n",
    "        pass\n",
    "        #print(noisedex)"
   ]
  },
  {
   "cell_type": "code",
   "execution_count": null,
   "metadata": {},
   "outputs": [],
   "source": [
    "print(np.abs(np.average(list_fit_mean) - test_mean),\n",
    "np.abs(np.average(list_fit_std_dev) - test_std_dev),\n",
    "np.abs(np.average(list_fit_height) - test_height))"
   ]
  },
  {
   "cell_type": "code",
   "execution_count": null,
   "metadata": {},
   "outputs": [],
   "source": []
  },
  {
   "cell_type": "code",
   "execution_count": 6,
   "metadata": {},
   "outputs": [],
   "source": [
    "center_list = [-1,-4,0,3,5]\n",
    "std_dev_list = [1,1,1,1,1]\n",
    "height_list = [-1,-0.5,0,0.5,1]\n",
    "x_domain_list = np.array([[-10,10],[-10,10],[-10,10],[-10,10],[-10,10]])\n",
    "noise_domain_list = x_domain_list / 100\n",
    "n_datapoints = 10000\n"
   ]
  },
  {
   "cell_type": "code",
   "execution_count": 7,
   "metadata": {},
   "outputs": [
    {
     "name": "stderr",
     "output_type": "stream",
     "text": [
      "C:\\Users\\Kenji Emerson\\Desktop\\SINNOH\\Research\\Dust_Scattering_Polarization_Modeling\\Codebase\\gaussian_fitting.py:404: OutputWarning: Only the first element of the noise_domian_list is used if cumulative_noise is False.    --Kyubey\n",
      "  kyubey_warning(OutputWarning,('Only the first element of the '\n"
     ]
    }
   ],
   "source": [
    "x_points,y_points = gaussfit.generate_noisy_multigaussian(center_list,std_dev_list,height_list,\n",
    "                                                          noise_domain_list,x_domain_list,n_datapoints=n_datapoints)"
   ]
  },
  {
   "cell_type": "code",
   "execution_count": 8,
   "metadata": {},
   "outputs": [
    {
     "data": {
      "image/png": "[encoded data removed]",
      "text/plain": [
       "<matplotlib.figure.Figure at 0x22e6e9cac18>"
      ]
     },
     "metadata": {},
     "output_type": "display_data"
    }
   ],
   "source": [
    "plt.plot(x_points,y_points)\n",
    "plt.show()"
   ]
  },
  {
   "cell_type": "code",
   "execution_count": 37,
   "metadata": {},
   "outputs": [
    {
     "name": "stdout",
     "output_type": "stream",
     "text": [
      "[4.11320315e+03 2.17616322e+03 1.12742898e+03 ... 1.53037630e+00\n",
      " 4.65994837e+00 1.19778873e+01]\n"
     ]
    },
    {
     "data": {
      "image/png": "[encoded data removed]",
      "text/plain": [
       "<matplotlib.figure.Figure at 0x22e6e475ef0>"
      ]
     },
     "metadata": {},
     "output_type": "display_data"
    },
    {
     "ename": "AttributeError",
     "evalue": "module 'scipy.signal' has no attribute 'find_peaks'",
     "output_type": "error",
     "traceback": [
      "\u001b[1;31m---------------------------------------------------------------------------\u001b[0m",
      "\u001b[1;31mAttributeError\u001b[0m                            Traceback (most recent call last)",
      "\u001b[1;32m<ipython-input-37-8b4d8a218e14>\u001b[0m in \u001b[0;36m<module>\u001b[1;34m()\u001b[0m\n\u001b[0;32m      7\u001b[0m \u001b[0mplt\u001b[0m\u001b[1;33m.\u001b[0m\u001b[0mshow\u001b[0m\u001b[1;33m(\u001b[0m\u001b[1;33m)\u001b[0m\u001b[1;33m\u001b[0m\u001b[0m\n\u001b[0;32m      8\u001b[0m \u001b[1;33m\u001b[0m\u001b[0m\n\u001b[1;32m----> 9\u001b[1;33m \u001b[0msp_sig\u001b[0m\u001b[1;33m.\u001b[0m\u001b[0mfind_peaks\u001b[0m\u001b[1;33m(\u001b[0m\u001b[0mrev_fourier\u001b[0m\u001b[1;33m)\u001b[0m\u001b[1;33m\u001b[0m\u001b[0m\n\u001b[0m",
      "\u001b[1;31mAttributeError\u001b[0m: module 'scipy.signal' has no attribute 'find_peaks'"
     ]
    }
   ],
   "source": [
    "fourier = np.fft.fft(y_points)\n",
    "#plt.plot(np.abs(fourier))\n",
    "print(np.abs(fourier[1:-1000]))\n",
    "rev_fourier = np.fft.ifft(fourier[0:100])\n",
    "\n",
    "plt.plot(np.abs(rev_fourier))\n",
    "plt.show()\n",
    "\n",
    "sp_sig.find_peaks(rev_fourier)"
   ]
  },
  {
   "cell_type": "code",
   "execution_count": null,
   "metadata": {},
   "outputs": [],
   "source": []
  }
 ],
 "metadata": {
  "kernelspec": {
   "display_name": "Python 3",
   "language": "python",
   "name": "python3"
  },
  "language_info": {
   "codemirror_mode": {
    "name": "ipython",
    "version": 3
   },
   "file_extension": ".py",
   "mimetype": "text/x-python",
   "name": "python",
   "nbconvert_exporter": "python",
   "pygments_lexer": "ipython3",
   "version": "3.6.4"
  }
 },
 "nbformat": 4,
 "nbformat_minor": 2
}
