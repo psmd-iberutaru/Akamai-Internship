{
 "cells": [
  {
   "cell_type": "code",
   "execution_count": 2,
   "metadata": {},
   "outputs": [],
   "source": [
    "import numpy as np\n",
    "import scipy as sp\n",
    "import scipy.optimize as sp_opt\n",
    "import scipy.signal as sp_sig\n",
    "import matplotlib.pyplot as plt\n",
    "\n",
    "import Robustness.validation as valid\n",
    "import bessel_fitting as bessfit"
   ]
  },
  {
   "cell_type": "code",
   "execution_count": 15,
   "metadata": {},
   "outputs": [
    {
     "ename": "ValueError",
     "evalue": "Noise domain range is detected to be zero. There is no functional use of this function.    --Kyubey",
     "output_type": "error",
     "traceback": [
      "\u001b[1;31m---------------------------------------------------------------------------\u001b[0m",
      "\u001b[1;31mValueError\u001b[0m                                Traceback (most recent call last)",
      "\u001b[1;32m<ipython-input-15-5aa87781f9eb>\u001b[0m in \u001b[0;36m<module>\u001b[1;34m()\u001b[0m\n\u001b[0;32m      5\u001b[0m \u001b[1;33m\u001b[0m\u001b[0m\n\u001b[0;32m      6\u001b[0m \u001b[1;31m# Generate and plot.\u001b[0m\u001b[1;33m\u001b[0m\u001b[1;33m\u001b[0m\u001b[0m\n\u001b[1;32m----> 7\u001b[1;33m \u001b[0mx_points\u001b[0m\u001b[1;33m,\u001b[0m\u001b[0my_points\u001b[0m \u001b[1;33m=\u001b[0m \u001b[0mbessfit\u001b[0m\u001b[1;33m.\u001b[0m\u001b[0mgenerate_noisy_bessel_1st\u001b[0m\u001b[1;33m(\u001b[0m\u001b[0morder\u001b[0m\u001b[1;33m,\u001b[0m \u001b[0mx_domain\u001b[0m\u001b[1;33m,\u001b[0m \u001b[0mnoise_domain\u001b[0m\u001b[1;33m,\u001b[0m \u001b[0mn_datapoints\u001b[0m\u001b[1;33m)\u001b[0m\u001b[1;33m\u001b[0m\u001b[0m\n\u001b[0m\u001b[0;32m      8\u001b[0m \u001b[0mplt\u001b[0m\u001b[1;33m.\u001b[0m\u001b[0mplot\u001b[0m\u001b[1;33m(\u001b[0m\u001b[0mx_points\u001b[0m\u001b[1;33m,\u001b[0m\u001b[0my_points\u001b[0m\u001b[1;33m,\u001b[0m\u001b[1;34m'b.'\u001b[0m\u001b[1;33m)\u001b[0m\u001b[1;33m\u001b[0m\u001b[0m\n\u001b[0;32m      9\u001b[0m \u001b[1;33m\u001b[0m\u001b[0m\n",
      "\u001b[1;32m~\\Desktop\\SINNOH\\Research\\Dust_Scattering_Polarization_Modeling\\Codebase\\bessel_fitting.py\u001b[0m in \u001b[0;36mgenerate_noisy_bessel_1st\u001b[1;34m(order, x_domain, noise_domain, n_datapoints, distribution)\u001b[0m\n\u001b[0;32m     99\u001b[0m     \u001b[1;31m# Imbue the values with noise.\u001b[0m\u001b[1;33m\u001b[0m\u001b[1;33m\u001b[0m\u001b[0m\n\u001b[0;32m    100\u001b[0m     y_output = misc.generate_noise(y_output, noise_domain,\n\u001b[1;32m--> 101\u001b[1;33m                                    distribution=distribution)\n\u001b[0m\u001b[0;32m    102\u001b[0m \u001b[1;33m\u001b[0m\u001b[0m\n\u001b[0;32m    103\u001b[0m     \u001b[1;31m# Sort the values for ease of plotting and computation.\u001b[0m\u001b[1;33m\u001b[0m\u001b[1;33m\u001b[0m\u001b[0m\n",
      "\u001b[1;32m~\\Desktop\\SINNOH\\Research\\Dust_Scattering_Polarization_Modeling\\Codebase\\misc_functions.py\u001b[0m in \u001b[0;36mgenerate_noise\u001b[1;34m(input_array, noise_domain, distribution, center, std_dev, debug)\u001b[0m\n\u001b[0;32m     53\u001b[0m         \u001b[0mnoise_domain\u001b[0m \u001b[1;33m=\u001b[0m \u001b[0mnp\u001b[0m\u001b[1;33m.\u001b[0m\u001b[0mflip\u001b[0m\u001b[1;33m(\u001b[0m\u001b[0mnoise_domain\u001b[0m\u001b[1;33m,\u001b[0m \u001b[0maxis\u001b[0m\u001b[1;33m=\u001b[0m\u001b[1;36m0\u001b[0m\u001b[1;33m)\u001b[0m\u001b[1;33m\u001b[0m\u001b[0m\n\u001b[0;32m     54\u001b[0m     \u001b[1;32melif\u001b[0m \u001b[1;33m(\u001b[0m\u001b[0mnoise_domain\u001b[0m\u001b[1;33m[\u001b[0m\u001b[1;36m0\u001b[0m\u001b[1;33m]\u001b[0m \u001b[1;33m==\u001b[0m \u001b[0mnoise_domain\u001b[0m\u001b[1;33m[\u001b[0m\u001b[1;33m-\u001b[0m\u001b[1;36m1\u001b[0m\u001b[1;33m]\u001b[0m\u001b[1;33m)\u001b[0m\u001b[1;33m:\u001b[0m\u001b[1;33m\u001b[0m\u001b[0m\n\u001b[1;32m---> 55\u001b[1;33m         raise ValueError('Noise domain range is detected to be zero. There is '\n\u001b[0m\u001b[0;32m     56\u001b[0m                          'no functional use of this function.    --Kyubey')\n\u001b[0;32m     57\u001b[0m \u001b[1;33m\u001b[0m\u001b[0m\n",
      "\u001b[1;31mValueError\u001b[0m: Noise domain range is detected to be zero. There is no functional use of this function.    --Kyubey"
     ]
    }
   ],
   "source": [
    "order = 586\n",
    "x_domain = [-100,100]\n",
    "noise_domain = [-0.01,0.01]\n",
    "n_datapoints = 1000\n",
    "\n",
    "# Generate and plot.\n",
    "x_points,y_points = bessfit.generate_noisy_bessel_1st(order, x_domain, noise_domain, n_datapoints)\n",
    "plt.plot(x_points,y_points,'b.')\n",
    "\n",
    "# Fit and plot.\n",
    "fit_order = bessfit.fit_bessel_function_1st_integer(x_points,y_points)\n",
    "fit_x_points = np.linspace(x_domain[0],x_domain[-1],n_datapoints*10)\n",
    "fit_y_points = bessfit.bessel_function_1st(fit_x_points,fit_order)\n",
    "plt.plot(fit_x_points,fit_y_points,'g')\n",
    "\n",
    "# Show plot.\n",
    "plt.show()\n",
    "print(fit_order)"
   ]
  },
  {
   "cell_type": "code",
   "execution_count": null,
   "metadata": {},
   "outputs": [],
   "source": [
    "order = np.pi\n",
    "x_domain = [1,101]\n",
    "noise_domain = [-0.1,0.1]\n",
    "n_datapoints = 1000\n",
    "\n",
    "# Generate and plot.\n",
    "x_points,y_points = bessfit.generate_noisy_bessel_2nd(order, x_domain, noise_domain, n_datapoints)\n",
    "plt.plot(x_points,y_points,'b.')\n",
    "\n",
    "# Fit and plot.\n",
    "fit_order,error = bessfit.fit_bessel_function_2nd(x_points,y_points)\n",
    "fit_x_points = np.linspace(x_domain[0],x_domain[-1],n_datapoints*10)\n",
    "fit_y_points = bessfit.bessel_function_2nd(fit_x_points,fit_order)\n",
    "fit_y_points_plus = bessfit.bessel_function_2nd(fit_x_points,fit_order+error)\n",
    "fit_y_points_minus = bessfit.bessel_function_2nd(fit_x_points,fit_order-error)\n",
    "plt.plot(fit_x_points,fit_y_points,'g')\n",
    "plt.plot(fit_x_points,fit_y_points_plus,'r--')\n",
    "plt.plot(fit_x_points,fit_y_points_minus,'r--')\n",
    "\n",
    "# Show plot.\n",
    "plt.show()\n",
    "print(fit_order, '  +/-  ', error)"
   ]
  },
  {
   "cell_type": "code",
   "execution_count": null,
   "metadata": {},
   "outputs": [],
   "source": []
  },
  {
   "cell_type": "code",
   "execution_count": null,
   "metadata": {},
   "outputs": [],
   "source": []
  }
 ],
 "metadata": {
  "kernelspec": {
   "display_name": "Python 3",
   "language": "python",
   "name": "python3"
  },
  "language_info": {
   "codemirror_mode": {
    "name": "ipython",
    "version": 3
   },
   "file_extension": ".py",
   "mimetype": "text/x-python",
   "name": "python",
   "nbconvert_exporter": "python",
   "pygments_lexer": "ipython3",
   "version": "3.6.5"
  }
 },
 "nbformat": 4,
 "nbformat_minor": 2
}
