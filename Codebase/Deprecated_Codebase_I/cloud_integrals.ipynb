{
 "cells": [
  {
   "cell_type": "code",
   "execution_count": 1,
   "metadata": {},
   "outputs": [],
   "source": [
    "import numpy as np\n",
    "import scipy as sp\n",
    "import matplotlib.pyplot as plt\n",
    "from mpl_toolkits.mplot3d import Axes3D\n",
    "\n",
    "import hourglass_magnetic_field as hgm\n",
    "import circular_magnetic_field as crm\n",
    "import magnetic_field_modeling as mfm\n",
    "import projection_integrals as pint"
   ]
  },
  {
   "cell_type": "code",
   "execution_count": 2,
   "metadata": {},
   "outputs": [],
   "source": [
    "def sphere_funct(x,y,z):\n",
    "    return x**2 + y**2 + z**2 - 9\n",
    "\n",
    "def field_funct(x,y,z):\n",
    "    return x + y + z\n",
    "\n",
    "sphere_str = 'x**2 + y**2 + z**2 - 9'"
   ]
  },
  {
   "cell_type": "code",
   "execution_count": 3,
   "metadata": {},
   "outputs": [],
   "source": [
    "view_line_point = (0,1,1) # x is varying after all.\n",
    "view_line_deltas = (1,0,0)\n",
    "box_width = 5"
   ]
  },
  {
   "cell_type": "code",
   "execution_count": 4,
   "metadata": {},
   "outputs": [
    {
     "name": "stderr",
     "output_type": "stream",
     "text": [
      "C:\\Users\\Kenji Emerson\\Desktop\\SINNOH\\Research\\Dust_Scattering_Polarization_Modeling\\Codebase\\misc_functions.py:308: DangerWarning: The following string is going to bepassed through the \"eval\" function. Is this a safe to pass this string? \n",
      "< lambda x,y,z : x**2 + y**2 + z**2 - 9 > \n",
      "    --Kyubey\n",
      "  input_halt=True)\n"
     ]
    },
    {
     "name": "stdout",
     "output_type": "stream",
     "text": [
      "\n",
      "A halt input has been issued by the program. Your input is required for the program to continue. Please enter in the following interger value:  < 3458 >\n",
      "Input above integer number:  3458\n",
      "\n",
      "\n",
      "(array([-2.64575131]), array([2.64575131]))\n",
      "[-2.64575131] [2.64575131]\n",
      "(10.583005244201038, 1.2214977091341812e-13)\n"
     ]
    }
   ],
   "source": [
    "lower_bound,upper_bound = pint.line_integral_boundaries(view_line_point,sphere_str,box_width)\n",
    "print(pint.line_integral_boundaries(view_line_point,sphere_funct,box_width))\n",
    "\n",
    "integral = pint.cloud_line_integral(field_funct,sphere_funct,view_line_point, \n",
    "                                    box_width,\n",
    "                                    view_line_deltas=(1,0,0),n_guesses=100)\n",
    "\n",
    "print(lower_bound,upper_bound)\n",
    "print(integral)"
   ]
  },
  {
   "cell_type": "code",
   "execution_count": null,
   "metadata": {},
   "outputs": [],
   "source": []
  }
 ],
 "metadata": {
  "kernelspec": {
   "display_name": "Python 3",
   "language": "python",
   "name": "python3"
  },
  "language_info": {
   "codemirror_mode": {
    "name": "ipython",
    "version": 3
   },
   "file_extension": ".py",
   "mimetype": "text/x-python",
   "name": "python",
   "nbconvert_exporter": "python",
   "pygments_lexer": "ipython3",
   "version": "3.6.5"
  }
 },
 "nbformat": 4,
 "nbformat_minor": 2
}
