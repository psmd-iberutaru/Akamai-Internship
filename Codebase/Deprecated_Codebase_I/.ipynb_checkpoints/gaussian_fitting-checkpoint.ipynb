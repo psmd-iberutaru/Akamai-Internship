{
 "cells": [
  {
   "cell_type": "code",
   "execution_count": 1,
   "metadata": {},
   "outputs": [],
   "source": [
    "import copy\n",
    "\n",
    "import numpy as np\n",
    "import scipy as sp\n",
    "import scipy.optimize as sp_opt\n",
    "import scipy.signal as sp_sig\n",
    "import scipy.special as sp_spcl\n",
    "import matplotlib.pyplot as plt\n",
    "\n",
    "import Robustness.validation as valid\n",
    "import gaussian_fitting as gaussfit\n",
    "import bessel_fitting as bessfit\n",
    "import misc_functions as misc\n",
    "\n",
    "import gaussian_bessel_fitting as gaubessfit"
   ]
  },
  {
   "cell_type": "code",
   "execution_count": null,
   "metadata": {},
   "outputs": [],
   "source": [
    "# Define the number of data points.\n",
    "n_datapoints=100\n",
    "\n",
    "# Generate the noisy gaussian, use the default options execpt for the data points.\n",
    "x_values,y_values = gaussfit.generate_noisy_gaussian(0,1,0,n_datapoints=n_datapoints)\n",
    "\n",
    "# Generate a fit of the noisy gaussian data.\n",
    "fit_parameters,covariance = gaussfit.fit_gaussian(x_values,y_values)\n",
    "\n",
    "# Reassign the fit parameters, generate values to plot the gaussian function.\n",
    "fit_mean,fit_std_dev,fit_height = fit_parameters\n",
    "fit_x_values = np.linspace(-3,3,n_datapoints*10)\n",
    "fit_y_values = gaussfit.gaussian_function(fit_x_values,fit_mean,fit_std_dev,fit_height)\n",
    "\n",
    "# Plot the information of the generated gaussian data and the fit.\n",
    "plt.plot(x_values,y_values,'.',label='Generated Data')\n",
    "plt.plot(fit_x_values,fit_y_values,label='Gaussian Fit')\n",
    "plt.legend()\n",
    "plt.show()\n",
    "\n",
    "# Print the values of the fitted parameters.\n",
    "print('Central Mean:  ',fit_parameters[0])\n",
    "print('Std dev:  ',fit_parameters[1])\n",
    "print('Height:  ',fit_parameters[2])"
   ]
  },
  {
   "cell_type": "code",
   "execution_count": null,
   "metadata": {},
   "outputs": [],
   "source": [
    "# Using Monte-Carlo methods for testing.\n",
    "bin_size = 10000\n",
    "bin_count = 1000\n",
    "\n",
    "# Delta parameters\n",
    "delta_mean = 1e-3\n",
    "delta_std_dev = 1e-3\n",
    "delta_height = 1e-3\n",
    "\n",
    "# Inital conditions\n",
    "test_mean = 1\n",
    "test_std_dev = 1\n",
    "test_height = 0\n",
    "\n",
    "# Generate a large dataset of potenial points and their results+noise.\n",
    "n_datapoints = 1000000\n",
    "x_domain = [-3,3]\n",
    "#noise_domain = [-1,1]\n",
    "max_absolute_noise = 10\n",
    "test_count = 1000\n",
    "\n",
    "# Extra stuff to ensure there is no uneeded loop time\n",
    "mean_break = False\n",
    "std_dev_break = False\n",
    "height_break = False\n",
    "\n",
    "# Test the algorithim under increasing values of the noise domain.\n",
    "for noisedex in np.linspace(0,max_absolute_noise,test_count):\n",
    "    noise_domain = [-noisedex,noisedex]\n",
    "    \n",
    "    # Archive the information data to conduct stats.\n",
    "    list_fit_mean = []\n",
    "    list_fit_std_dev = []\n",
    "    list_fit_height = []\n",
    "    \n",
    "    x_value_array,y_value_array = generate_noisy_gaussian(mean=test_mean,std_dev=test_std_dev,height=test_height,\n",
    "                                                      x_domain=x_domain,noise_domain=noise_domain,\n",
    "                                                      n_datapoints=n_datapoints)\n",
    "\n",
    "    # From the dataset, generate the bins from random values, double sampling \n",
    "    # between bins is allowed.\n",
    "    for bindex in range(bin_count):\n",
    "        # Create a list of random indexes and extract a subset of the data.\n",
    "        selected_indexes = np.random.randint(0,n_datapoints,size=bin_size)\n",
    "        x_values_bin = np.array(x_value_array[selected_indexes])\n",
    "        y_values_bin = np.array(y_value_array[selected_indexes])\n",
    "        \n",
    "        # Fit the values in each bin with a gaussian fit.\n",
    "        fit_parameters,covariance = fit_gaussian(x_values_bin,y_values_bin)\n",
    "        \"\"\"\n",
    "        # Generate an array for plotting values. Reusing the n_datapoints variable.\n",
    "        plotting_x_values = np.linspace(x_domain[0],x_domain[-1],n_datapoints)\n",
    "        plotting_y_values = gaussian_function(plotting_x_values,\n",
    "                                          fit_parameters[0],fit_parameters[1],fit_parameters[2])\n",
    "        \n",
    "        # Print the information\n",
    "        # Plot the information of the generated gaussian data and the fit.\n",
    "        plt.plot(x_values_bin,y_values_bin,'.',label='Generated Data')\n",
    "        plt.plot(plotting_x_values,plotting_y_values,label='Gaussian Fit')\n",
    "        plt.legend()\n",
    "        plt.show()\n",
    "        \n",
    "        # Print the values of the fitted parameters.\n",
    "        print('Central Mean:  ',fit_parameters[0])\n",
    "        print('Std dev:  ',fit_parameters[1])\n",
    "        print('Height:  ',fit_parameters[2])\n",
    "    \n",
    "        # A dividing line for easier reading.\n",
    "        print('==========================================')\n",
    "        \"\"\"\n",
    "        \n",
    "        # Save the fit parameters for the current run.\n",
    "        list_fit_mean.append(fit_parameters[0])\n",
    "        list_fit_std_dev.append(fit_parameters[1])\n",
    "        list_fit_height.append(fit_parameters[2])\n",
    "    \n",
    "        # Remove unneeded values (just to make sure it is not repeated).\n",
    "        del selected_indexes,fit_parameters\n",
    "        #print(bindex)\n",
    "    \n",
    "    # Test the averages of the fitted values and see if the difference is too large.\n",
    "    if (np.abs(np.average(list_fit_mean) - test_mean) > delta_mean):\n",
    "        print('Mean failed at a noisedex of  ', noisedex)\n",
    "        mean_break = True\n",
    "    if (np.abs(np.average(list_fit_std_dev) - test_std_dev) > delta_std_dev):\n",
    "        print('Std Dev failed at a noisedex of  ', noisedex)\n",
    "        std_dev_break = True\n",
    "    if (np.abs(np.average(list_fit_height) - test_height) > delta_height):\n",
    "        print('Height failed at a noisedex of  ', noisedex)\n",
    "        height_break = True\n",
    "        \n",
    "    # If all three values broke, end the loop.\n",
    "    if (mean_break and std_dev_break and height_break):\n",
    "        print('End!')\n",
    "        break\n",
    "    else:\n",
    "        pass\n",
    "        #print(noisedex)"
   ]
  },
  {
   "cell_type": "code",
   "execution_count": null,
   "metadata": {},
   "outputs": [],
   "source": [
    "print(np.abs(np.average(list_fit_mean) - test_mean),\n",
    "np.abs(np.average(list_fit_std_dev) - test_std_dev),\n",
    "np.abs(np.average(list_fit_height) - test_height))"
   ]
  },
  {
   "cell_type": "code",
   "execution_count": null,
   "metadata": {},
   "outputs": [],
   "source": []
  },
  {
   "cell_type": "code",
   "execution_count": 2,
   "metadata": {},
   "outputs": [],
   "source": [
    "center_list = [-8,-4,0,3,5]\n",
    "std_dev_list = [1,2,1,2,3]\n",
    "height_list = [0,0,0,0.01,0]\n",
    "x_domain_list = np.array([[-10,10],[-10,10],[-10,10],[-10,10],[-10,10]])\n",
    "noise_domain_list = x_domain_list / 1000\n",
    "n_datapoints = 10000\n"
   ]
  },
  {
   "cell_type": "code",
   "execution_count": 3,
   "metadata": {},
   "outputs": [
    {
     "name": "stderr",
     "output_type": "stream",
     "text": [
      "C:\\Users\\Kenji Emerson\\Desktop\\SINNOH\\Research\\Dust_Scattering_Polarization_Modeling\\Codebase\\gaussian_fitting.py:286: OutputWarning: Only the first element of the noise_domian_list is used if cumulative_noise is False.    --Kyubey\n",
      "  kyubey_warning(OutputWarning, ('Only the first element of the '\n"
     ]
    },
    {
     "name": "stdout",
     "output_type": "stream",
     "text": [
      "[-9.98354705 -9.97208391 -9.95485171 ...  9.99165485  9.99219518\n",
      "  9.99580823]\n"
     ]
    },
    {
     "data": {
      "image/png": "[encoded data removed]",
      "text/plain": [
       "<Figure size 432x288 with 1 Axes>"
      ]
     },
     "metadata": {},
     "output_type": "display_data"
    }
   ],
   "source": [
    "x_points,y_points = gaussfit.generate_noisy_multigaussian(center_list,std_dev_list,height_list,\n",
    "                                                          noise_domain_list,x_domain=[-10,10],n_datapoints=n_datapoints)\n",
    "\n",
    "plt.plot(x_points,y_points)\n",
    "plt.show\n",
    "\n",
    "print(x_points)"
   ]
  },
  {
   "cell_type": "code",
   "execution_count": 10,
   "metadata": {},
   "outputs": [
    {
     "data": {
      "image/png": "[encoded data removed]",
      "text/plain": [
       "<Figure size 432x288 with 1 Axes>"
      ]
     },
     "metadata": {},
     "output_type": "display_data"
    },
    {
     "name": "stdout",
     "output_type": "stream",
     "text": [
      "[-8.09104044 -3.65272035 -3.2441624  -0.02292982  1.64691611  2.78048294\n",
      "  3.2315902   3.67858697  5.33729173  6.96292361  7.78499624  8.55114673\n",
      "  8.92937753  9.18279651  9.47475739  9.86113782]\n"
     ]
    }
   ],
   "source": [
    "fourier = np.fft.fft(y_points)\n",
    "#plt.plot(np.abs(fourier))\n",
    "#print(np.abs(fourier[1:-1000]))\n",
    "fourier[100:] = 0\n",
    "rev_fourier = np.fft.ifft(fourier)\n",
    "\n",
    "plt.plot(np.abs(rev_fourier))\n",
    "plt.show()\n",
    "\n",
    "peak_index = np.array(sp_sig.find_peaks(np.abs(rev_fourier),prominence=0.001)[0],dtype=int)\n",
    "print(x_points[peak_index])"
   ]
  },
  {
   "cell_type": "code",
   "execution_count": 12,
   "metadata": {
    "scrolled": true
   },
   "outputs": [
    {
     "name": "stdout",
     "output_type": "stream",
     "text": [
      "[  10  332   10 1105] [ 802  802 1984 1984]\n",
      "[-8.01567645 -4.00191409 -2.21568883  2.87338701]\n"
     ]
    }
   ],
   "source": [
    "data = gaussfit.fit_multigaussian(x_points,y_points,prominence=0.05,window_len_ratio=0.001,sg_polyorder=0)\n",
    "centers = data[0]\n",
    "std_devs = data[1]\n",
    "heights = data[2]\n",
    "print(centers)"
   ]
  },
  {
   "cell_type": "code",
   "execution_count": null,
   "metadata": {},
   "outputs": [],
   "source": [
    "plt.plot(x_points,gaussfit.gaussian_function(x_points,centers[0],std_devs[0],heights[0]))\n",
    "plt.plot(x_points,gaussfit.gaussian_function(x_points,centers[1],std_devs[1],heights[1]))\n",
    "plt.plot(x_points,gaussfit.gaussian_function(x_points,centers[2],std_devs[2],heights[2]))\n",
    "plt.plot(x_points,gaussfit.gaussian_function(x_points,centers[3],std_devs[3],heights[3]))\n",
    "plt.plot(x_points,y_points)\n",
    "plt.show()"
   ]
  },
  {
   "cell_type": "code",
   "execution_count": 17,
   "metadata": {},
   "outputs": [
    {
     "data": {
      "image/png": "[encoded data removed]",
      "text/plain": [
       "<Figure size 432x288 with 1 Axes>"
      ]
     },
     "metadata": {},
     "output_type": "display_data"
    }
   ],
   "source": [
    "noise_domain = [-0.1,0.1]\n",
    "\n",
    "x_inputs = np.random.uniform(-100,100,10000)\n",
    "x_inputs = np.sort(x_inputs)\n",
    "\n",
    "functions = (gaussfit.gaussian_function,\n",
    "             gaussfit.gaussian_function,\n",
    "             gaussfit.gaussian_function,\n",
    "             bessfit.bessel_function_1st\n",
    "            )\n",
    "parameters = (\n",
    "    {'center':-10, 'std_dev':1, 'height':0},\n",
    "    {'center':-30, 'std_dev':2, 'height':0},\n",
    "    {'center':40, 'std_dev':3, 'height':0},\n",
    "    {'order':5}\n",
    ")\n",
    "\n",
    "\n",
    "y_output = misc.generate_function_envelope(x_inputs,functions,parameters)\n",
    "y_output = misc.generate_noise(y_output,noise_domain)\n",
    "plt.plot(x_inputs,y_output,'.')\n",
    "\n",
    "# Testing 1/x functions.\n",
    "test_x = np.linspace(-100,100,1000)\n",
    "test_y = 2/test_x\n",
    "plt.plot(test_x,test_y)\n",
    "\n",
    "plt.ylim([-1,1])\n",
    "plt.show()"
   ]
  },
  {
   "cell_type": "code",
   "execution_count": 20,
   "metadata": {
    "scrolled": true
   },
   "outputs": [
    {
     "name": "stderr",
     "output_type": "stream",
     "text": [
      "C:\\Program Files (x86)\\Microsoft Visual Studio\\Shared\\Anaconda3_64\\lib\\site-packages\\numpy\\core\\numeric.py:492: ComplexWarning: Casting complex values to real discards the imaginary part\n",
      "  return array(a, dtype, copy=False, order=order)\n"
     ]
    },
    {
     "name": "stdout",
     "output_type": "stream",
     "text": [
      "[ 492  911 1216] [ 911 1216 2156]\n",
      "5\n",
      "[-30.11239681 -10.10874623  40.04472188]\n",
      "[1.62921196 0.9805043  2.51654012]\n",
      "[0.03347197 0.01330431 0.02836122]\n"
     ]
    }
   ],
   "source": [
    "arbitrary={'fft_cutoff': 0.05, 'prominence': 0.25,'prom_height_ratio': 0.01,'gauss_toler':0.01,'bess_mask_toler': 0.1}\n",
    "\n",
    "fitted_order, center_array, std_dev_array, height_array, covariance = \\\n",
    "    gaubessfit.gaussian_bessel_fit(x_inputs,y_output,arbitrary=arbitrary)\n",
    "\n",
    "print(fitted_order)\n",
    "print(center_array)\n",
    "print(std_dev_array)\n",
    "print(height_array)"
   ]
  },
  {
   "cell_type": "code",
   "execution_count": 21,
   "metadata": {},
   "outputs": [
    {
     "data": {
      "image/png": "[encoded data removed]",
      "text/plain": [
       "<Figure size 432x288 with 1 Axes>"
      ]
     },
     "metadata": {},
     "output_type": "display_data"
    }
   ],
   "source": [
    "def _bessel_mask(x_values, y_values, order, bess_mask_toler,\n",
    "                 *args, **kwargs):\n",
    "    \"\"\"\n",
    "    This masks values from a bessel function.\n",
    "    \"\"\"\n",
    "    # Type check\n",
    "    x_values = valid.validate_float_array(x_values)\n",
    "    y_values = valid.validate_float_array(y_values)\n",
    "\n",
    "    # Once there is the fitted order, mask all the bessel function values\n",
    "    # from the points.\n",
    "    bessel_x = copy.deepcopy(x_values)\n",
    "    bessel_y = bessfit.bessel_function_1st(bessel_x, fitted_order)\n",
    "\n",
    "    # Mask the entire set within the gaussian bounds. True passes.\n",
    "    passed_index = np.where(np.abs(y_values - bessel_y) > bess_mask_toler)\n",
    "\n",
    "    # Return only the valid values via the valid index.\n",
    "    return x_values[passed_index],y_values[passed_index]\n",
    "\n",
    "x_testplot,y_testplot =_bessel_mask(x_inputs,y_output,order=5,bess_mask_toler=0.10)\n",
    "#plt.plot(x_inputs,y_output)\n",
    "plt.plot(x_testplot,y_testplot)\n",
    "plt.show()"
   ]
  },
  {
   "cell_type": "code",
   "execution_count": null,
   "metadata": {},
   "outputs": [],
   "source": [
    "if False:\n",
    "    x_sg_test = x_testplot\n",
    "    y_sg_test = y_testplot\n",
    "else:\n",
    "    x_sg_test = x_inputs\n",
    "    y_sg_test = y_output\n",
    "\n",
    "sg_filter_y = sp_sig.savgol_filter(y_sg_test,int(len(x_sg_test)*0.05 + 1),3)\n",
    "plt.plot(x_sg_test,sg_filter_y)\n",
    "plt.show()\n",
    "\n",
    "find_index = sp_sig.find_peaks(sg_filter_y,prominence=0.05)[0]\n",
    "print(x_sg_test[find_index])"
   ]
  },
  {
   "cell_type": "code",
   "execution_count": null,
   "metadata": {},
   "outputs": [],
   "source": [
    "view = 10\n",
    "\n",
    "# Sort\n",
    "sort_index = np.argsort(x_inputs)\n",
    "x_inputs = x_inputs[sort_index]\n",
    "y_output = y_output[sort_index]\n",
    "\n",
    "y_fft = np.fft.fft(y_output)\n",
    "plt.plot(y_fft[view:-view])\n",
    "plt.show()\n",
    "\n",
    "y_fft[100:-100] = 0\n",
    "y_ifft = np.fft.ifft(y_fft)\n",
    "plt.plot(x_inputs,y_ifft)\n",
    "plt.show()\n",
    "\n",
    "find_index = sp_sig.find_peaks(y_ifft,prominence=0.25)[0]\n",
    "print(x_inputs[find_index])"
   ]
  },
  {
   "cell_type": "code",
   "execution_count": null,
   "metadata": {},
   "outputs": [],
   "source": [
    "fit_fft = bessfit.fit_bessel_function_1st_integer(x_inputs,y_ifft)\n",
    "fit = bessfit.fit_bessel_function_1st_integer(x_inputs[:100],y_output[:100])\n",
    "print(fit)\n",
    "print(fit_fft)\n",
    "\n",
    "plt.plot(x_inputs,bessfit.bessel_function_1st(x_inputs,fit))\n",
    "plt.plot(x_inputs,bessfit.bessel_function_1st(x_inputs,fit_fft))\n",
    "plt.plot(x_inputs,y_output)\n",
    "plt.show()"
   ]
  },
  {
   "cell_type": "code",
   "execution_count": null,
   "metadata": {},
   "outputs": [],
   "source": [
    "def bessel_1(x,order):\n",
    "    #x = np.array(x,dtype=complex)\n",
    "    return sp_spcl.jv(order,x)\n",
    "\n",
    "def bessel_2(x,order):\n",
    "    #x = np.array(x,dtype=complex)\n",
    "    return sp_spcl.yv(order,x)\n",
    "\n",
    "x_values = np.linspace(-10,10,1000)\n",
    "\n",
    "for orderdex in np.linspace(-3,3,7):\n",
    "    y_values = bessel_1(x_values,orderdex)\n",
    "    plt.plot(x_values,y_values,label=orderdex)\n",
    "    if not (np.isnan(y_values[5])): print(orderdex)\n",
    "\n",
    "plt.ylim([-1,1])\n",
    "plt.legend()\n",
    "plt.show()"
   ]
  },
  {
   "cell_type": "code",
   "execution_count": null,
   "metadata": {},
   "outputs": [],
   "source": []
  },
  {
   "cell_type": "code",
   "execution_count": null,
   "metadata": {},
   "outputs": [],
   "source": []
  }
 ],
 "metadata": {
  "kernelspec": {
   "display_name": "Python 3",
   "language": "python",
   "name": "python3"
  },
  "language_info": {
   "codemirror_mode": {
    "name": "ipython",
    "version": 3
   },
   "file_extension": ".py",
   "mimetype": "text/x-python",
   "name": "python",
   "nbconvert_exporter": "python",
   "pygments_lexer": "ipython3",
   "version": "3.6.5"
  }
 },
 "nbformat": 4,
 "nbformat_minor": 2
}
