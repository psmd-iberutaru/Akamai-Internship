{
 "cells": [
  {
   "cell_type": "code",
   "execution_count": 49,
   "metadata": {},
   "outputs": [],
   "source": [
    "import numpy as np\n",
    "import scipy as sp\n",
    "import scipy.optimize as sp_opt\n",
    "import matplotlib.pyplot as plt\n",
    "\n",
    "def gaussian_function(x_input,location,std_dev,height):\n",
    "    # Use the equation of a gaussian from Wikipedia:\n",
    "    y_output = (((1 / std_dev * np.sqrt(2 * np.pi)) \n",
    "                 * np.exp(-0.5 * (x_input - (location/std_dev))**2))\n",
    "                + height)\n",
    "    return y_output\n",
    "\n",
    "def generate_noisy_gaussian(location=0,std_dev=1,height=0,noise_domain=[-0.1,0.1],\n",
    "                            x_domain=[-3,3],n_datapoints=10000):\n",
    "    \"\"\"\n",
    "    Generate a gaussian with some aspect of noise.\n",
    "    \n",
    "    Input:\n",
    "        location = centeral x value\n",
    "        std_dev = standard deviation of the function\n",
    "        height = height (y-off set) of the function\n",
    "        noise_range = uniform random distribution of noise from perfect gauss function\n",
    "        x_range = absolute domain of the gaussian function \n",
    "        n_datapoints = total number of input datapoints of gass function\n",
    "    Output: x_values,y_values\n",
    "        x_values = the x-axial array of the gaussian function within the domain\n",
    "        y_values = the y-axial array of the gaussian function within the domain\n",
    "    \"\"\"\n",
    "    \n",
    "    # Make the x-axis value array given the domain and the number of points.\n",
    "    x_values = np.linspace(x_domain[0],x_domain[-1],n_datapoints,dtype=float)\n",
    "    \n",
    "    # Generate the gaussian function and map to an output with the input parameters.\n",
    "    y_values = gaussian_function(x_values,location,std_dev,height)\n",
    "    \n",
    "    # Generate an array of noise values equally distributed.\n",
    "    noise_array = np.random.uniform(noise_domain[0],noise_domain[-1],n_datapoints)\n",
    "    \n",
    "    # Add the noise to the optimal gaussian function.\n",
    "    y_values += noise_array\n",
    "    \n",
    "    return x_values,y_values\n",
    "\n",
    "def fit_gaussian(x_values,y_values):\n",
    "    \"\"\"\n",
    "    Fit a gaussian fucntion with 4 degrees of freedom.\n",
    "    \n",
    "    Input:\n",
    "        x_values = the x-axial array of the values\n",
    "        y_values = the y-axial array of the values\n",
    "        \n",
    "    Returns: fit_parameters[location,std_dev,height],covariance\n",
    "        fit_parameters = an array containing the values of the fit\n",
    "        location = the centeral value of the gaussian\n",
    "        std_dev = the standard deviation of the gaussian\n",
    "        height = the height of the gaussian function along the x-axis\n",
    "        covariance = a convariance matrix of the fit\n",
    "    \"\"\"\n",
    "    \n",
    "    # Use scipy's curve optimization function for the gaussian function.\n",
    "    fit_parameters,covariance = sp_opt.curve_fit(gaussian_function,x_values,y_values)\n",
    "    \n",
    "    return fit_parameters,covariance"
   ]
  },
  {
   "cell_type": "code",
   "execution_count": 50,
   "metadata": {},
   "outputs": [
    {
     "data": {
      "image/png": "[encoded data removed]",
      "text/plain": [
       "<matplotlib.figure.Figure at 0x19516fa3208>"
      ]
     },
     "metadata": {},
     "output_type": "display_data"
    },
    {
     "name": "stdout",
     "output_type": "stream",
     "text": [
      "Central Location:   0.007803539565931603\n",
      "Std dev:   0.996489648179349\n",
      "Height:   0.0029929213796705397\n"
     ]
    }
   ],
   "source": [
    "# Define the number of data points.\n",
    "n_datapoints=100\n",
    "\n",
    "# Generate the noisy gaussian, use the default options execpt for the data points.\n",
    "x_values,y_values = generate_noisy_gaussian(n_datapoints=n_datapoints)\n",
    "\n",
    "# Generate a fit of the noisy gaussian data.\n",
    "fit_parameters,covariance = fit_gaussian(x_values,y_values)\n",
    "\n",
    "# Reassign the fit parameters, generate values to plot the gaussian function.\n",
    "fit_location,fit_std_dev,fit_height = fit_parameters\n",
    "fit_x_values = np.linspace(-3,3,n_datapoints*10)\n",
    "fit_y_values = gaussian_function(fit_x_values,fit_location,fit_std_dev,fit_height)\n",
    "\n",
    "# Plot the information of the generated gaussian data and the fit.\n",
    "plt.plot(x_values,y_values,'.',label='Generated Data')\n",
    "plt.plot(fit_x_values,fit_y_values,label='Gaussian Fit')\n",
    "plt.legend()\n",
    "plt.show()\n",
    "\n",
    "# Print the values of the fitted parameters.\n",
    "print('Central Location:  ',fit_parameters[0])\n",
    "print('Std dev:  ',fit_parameters[1])\n",
    "print('Height:  ',fit_parameters[2])"
   ]
  },
  {
   "cell_type": "code",
   "execution_count": null,
   "metadata": {},
   "outputs": [],
   "source": []
  }
 ],
 "metadata": {
  "kernelspec": {
   "display_name": "Python 3",
   "language": "python",
   "name": "python3"
  },
  "language_info": {
   "codemirror_mode": {
    "name": "ipython",
    "version": 3
   },
   "file_extension": ".py",
   "mimetype": "text/x-python",
   "name": "python",
   "nbconvert_exporter": "python",
   "pygments_lexer": "ipython3",
   "version": "3.6.4"
  }
 },
 "nbformat": 4,
 "nbformat_minor": 2
}
