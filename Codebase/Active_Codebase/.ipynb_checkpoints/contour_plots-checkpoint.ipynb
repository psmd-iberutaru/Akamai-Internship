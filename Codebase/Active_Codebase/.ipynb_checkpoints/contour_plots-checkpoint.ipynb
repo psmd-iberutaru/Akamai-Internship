{
 "cells": [
  {
   "cell_type": "code",
   "execution_count": 1,
   "metadata": {},
   "outputs": [],
   "source": [
    "import time\n",
    "\n",
    "import numpy as np\n",
    "import scipy as sp\n",
    "import matplotlib.pyplot as plt\n",
    "from mpl_toolkits.mplot3d import Axes3D\n",
    "import astropy as ay\n",
    "import astropy.units as ay_u\n",
    "import astropy.coordinates as ay_coord\n",
    "\n",
    "import magnetic_field_functions_2d as mff2d\n",
    "import magnetic_field_functions_3d as mff3d\n",
    "import model_observing as m_obs\n",
    "import data_systematization as d_systize\n",
    "\n",
    "# %load_ext line_profiler\n",
    "# %matplotlib notebook\n"
   ]
  },
  {
   "cell_type": "code",
   "execution_count": null,
   "metadata": {},
   "outputs": [],
   "source": [
    "def mag_field(x,y,z):\n",
    "    h = 0.3257\n",
    "    k_array = [0.9549,0.4608,0.6320]\n",
    "    disk_radius = 3.8918\n",
    "    uniform_B0 = 3.3118    \n",
    "    return mff3d.hourglass_magnetic_field_cart_3d(x, y, z,\n",
    "                                                  h, k_array, disk_radius, uniform_B0,\n",
    "                                                  center=[0, 0, 0])\n",
    "\n",
    "def cloud_eq(x,y,z):\n",
    "    radius = 1\n",
    "    return x**2 + y**2 + z**2 - radius\n",
    "\n",
    "def test_field(x,y,z):\n",
    "    return 0,1,0\n",
    "\n",
    "center_coord = ay_coord.SkyCoord('00h00m00.00s','00d00m00.00s',frame='icrs')\n",
    "\n",
    "n_zeros = 30"
   ]
  },
  {
   "cell_type": "markdown",
   "metadata": {},
   "source": [
    "target_object = m_obs.ProtostarModel(center_coord,cloud_eq,test_field,ra_wrap_angle=np.pi)\n",
    "target_sightline = m_obs.Sightline(None,None,Skycord_object=center_coord,ra_wrap_angle=np.pi)\n",
    "\n",
    "\n",
    "telescope_data = m_obs.ObservingRun(target_object,target_sightline,3)\n",
    "_ = telescope_data.Stokes_parameter_contours(n_samples=100) # Res is n_samples"
   ]
  },
  {
   "cell_type": "markdown",
   "metadata": {},
   "source": [
    "## Multiple Plots"
   ]
  },
  {
   "cell_type": "code",
   "execution_count": null,
   "metadata": {
    "scrolled": true
   },
   "outputs": [],
   "source": [
    "def test_field_0(x,y,z):\n",
    "    return 0,1,0\n",
    "\n",
    "def intensity_field_0(x,y,z):\n",
    "    return 2*x**2 + 2*y**2 + 2*z**2\n",
    "\n",
    "target_object_0 = m_obs.ProtostarModel(center_coord,cloud_eq,test_field_0,density_model=intensity_field_0,\n",
    "                                       zeros_guess_count=n_zeros,ra_wrap_angle=np.pi)\n",
    "target_sightline_0 = m_obs.Sightline(None,None,Skycord_object=center_coord,ra_wrap_angle=np.pi)\n",
    "telescope_data_0 = m_obs.ObservingRun(target_object_0,target_sightline_0,3)\n",
    "\n",
    "start_time = time.time()\n",
    "_ = telescope_data_0.Stokes_parameter_contours(n_axial_samples=150)\n",
    "end_time = time.time()\n",
    "print('Delta time : ', end_time - start_time)\n"
   ]
  },
  {
   "cell_type": "code",
   "execution_count": null,
   "metadata": {},
   "outputs": [],
   "source": [
    "a,b = _\n",
    "print(min(b[2]))"
   ]
  },
  {
   "cell_type": "code",
   "execution_count": null,
   "metadata": {
    "scrolled": true
   },
   "outputs": [],
   "source": [
    "def test_field_45(x,y,z):\n",
    "    return 0,1,1\n",
    "\n",
    "def intensity_field_45(x,y,z):\n",
    "    return 2*x**2 + 2*y**2 + 2*z**2\n",
    "\n",
    "def polar_model(x,y,z):\n",
    "    return 1\n",
    "\n",
    "\n",
    "target_object_45 = m_obs.ProtostarModel(center_coord,cloud_eq,test_field_45,density_model=intensity_field_45,\n",
    "                                        zeros_guess_count=n_zeros,polarization_model=polar_model,ra_wrap_angle=np.pi)\n",
    "target_sightline_45 = m_obs.Sightline(None,None,Skycord_object=center_coord,ra_wrap_angle=np.pi)\n",
    "telescope_data_45 = m_obs.ObservingRun(target_object_45,target_sightline_45,3)\n",
    "\n",
    "start_time = time.time()\n",
    "_ = telescope_data_45.Stokes_parameter_contours(n_axial_samples=50)\n",
    "end_time = time.time()\n",
    "print('Delta time : ', end_time - start_time)"
   ]
  },
  {
   "cell_type": "code",
   "execution_count": null,
   "metadata": {},
   "outputs": [],
   "source": [
    "def intensity_field_45_table(x,y,z):\n",
    "    return 2*x**2 + 2*y**2 + 2*z**2\n",
    "\n",
    "x_tab_val = np.random.uniform(-2,2,1000)\n",
    "y_tab_val = np.random.uniform(-2,2,1000)\n",
    "z_tab_val = np.random.uniform(-2,2,1000)\n",
    "ans_tab_val = intensity_field_45_table(x_tab_val,y_tab_val,z_tab_val)\n",
    "intensity_table = d_systize.InterpolationTable(x_tab_val,y_tab_val,z_tab_val,classification='scalar')\n",
    "\n",
    "\n",
    "target_object_45 = m_obs.ProtostarModel(center_coord,cloud_eq,test_field_45,density_model=intensity_table,\n",
    "                                        zeros_guess_count=n_zeros,polarization_model=1,ra_wrap_angle=np.pi)\n",
    "target_sightline_45 = m_obs.Sightline(None,None,Skycord_object=center_coord,ra_wrap_angle=np.pi)\n",
    "telescope_data_45 = m_obs.ObservingRun(target_object_45,target_sightline_45,3)\n",
    "\n",
    "start_time = time.time()\n",
    "_ = telescope_data_45.Stokes_parameter_contours(n_axial_samples=50)\n",
    "end_time = time.time()\n",
    "print('Delta time : ', end_time - start_time)"
   ]
  },
  {
   "cell_type": "code",
   "execution_count": null,
   "metadata": {},
   "outputs": [],
   "source": [
    "def test_field_90(x,y,z):\n",
    "    return 0,0,1\n",
    "\n",
    "def cloud_eq_x(x,y,z):\n",
    "    R = 1\n",
    "    r = 0.5\n",
    "    return (np.sqrt(y**2 + z**2) - R)**2 + x**2 - r**2\n",
    "\n",
    "target_object_90 = m_obs.ProtostarModel(center_coord,cloud_eq_x,test_field_90,\n",
    "                                        zeros_guess_count=n_zeros,ra_wrap_angle=np.pi)\n",
    "target_sightline_90 = m_obs.Sightline(None,None,Skycord_object=center_coord,ra_wrap_angle=np.pi)\n",
    "telescope_data_90 = m_obs.ObservingRun(target_object_90,target_sightline_90,3)\n",
    "\n",
    "start_time = time.time()\n",
    "_ = telescope_data_90.Stokes_parameter_contours(n_axial_samples=50)\n",
    "end_time = time.time()\n",
    "print('Delta time : ', end_time - start_time)"
   ]
  },
  {
   "cell_type": "code",
   "execution_count": null,
   "metadata": {},
   "outputs": [],
   "source": [
    "def test_field_135(x,y,z):\n",
    "    return 0,-1,1\n",
    "\n",
    "def cloud_eq_y(x,y,z):\n",
    "    R = 1\n",
    "    r = 0.5\n",
    "    return (np.sqrt(x**2 + z**2) - R)**2 + y**2 - r**2\n",
    "\n",
    "target_object_135 = m_obs.ProtostarModel(center_coord,cloud_eq_y,test_field_135,\n",
    "                                         zeros_guess_count=n_zeros,ra_wrap_angle=np.pi)\n",
    "target_sightline_135 = m_obs.Sightline(None,None,Skycord_object=center_coord,ra_wrap_angle=np.pi)\n",
    "telescope_data_135 = m_obs.ObservingRun(target_object_135,target_sightline_135,3)\n",
    "\n",
    "start_time = time.time()\n",
    "_ = telescope_data_135.Stokes_parameter_contours(n_axial_samples=50)\n",
    "end_time = time.time()\n",
    "print('Delta time : ', end_time - start_time)"
   ]
  },
  {
   "cell_type": "code",
   "execution_count": null,
   "metadata": {},
   "outputs": [],
   "source": [
    "def test_field_180(x,y,z):\n",
    "    return 0,-1,0\n",
    "\n",
    "def cloud_eq_z(x,y,z):\n",
    "    R = 1\n",
    "    r = 0.5\n",
    "    return (np.sqrt(x**2 + y**2) - R)**2 + z**2 - r**2\n",
    "\n",
    "target_object_180 = m_obs.ProtostarModel(center_coord,cloud_eq_z,test_field_180,\n",
    "                                         zeros_guess_count=n_zeros,ra_wrap_angle=np.pi)\n",
    "target_sightline_180 = m_obs.Sightline(None,None,Skycord_object=center_coord,ra_wrap_angle=np.pi)\n",
    "telescope_data_180 = m_obs.ObservingRun(target_object_180,target_sightline_180,3)\n",
    "\n",
    "start_time = time.time()\n",
    "_ = telescope_data_180.Stokes_parameter_contours(n_axial_samples=50)\n",
    "end_time = time.time()\n",
    "print('Delta time : ', end_time - start_time)"
   ]
  },
  {
   "cell_type": "markdown",
   "metadata": {},
   "source": [
    "## Big Braking!"
   ]
  },
  {
   "cell_type": "code",
   "execution_count": null,
   "metadata": {
    "scrolled": true
   },
   "outputs": [],
   "source": [
    "# %lprun -f telescope_data.Stokes_parameter_contours telescope_data.Stokes_parameter_contours(n_samples=10000)\n",
    "#axes,stokes = telescope_data.Stokes_parameter_contours(n_samples=10000)"
   ]
  },
  {
   "cell_type": "code",
   "execution_count": null,
   "metadata": {},
   "outputs": [],
   "source": [
    "# Speckle testing\n",
    "#axes,stokes = telescope_data.Stokes_parameter_contours(n_samples=10000)"
   ]
  },
  {
   "cell_type": "markdown",
   "metadata": {},
   "source": [
    "## Testing!"
   ]
  },
  {
   "cell_type": "code",
   "execution_count": null,
   "metadata": {},
   "outputs": [],
   "source": [
    "test_coord = ay_coord.SkyCoord('12h00m01.00s','00d00m00.00s',frame='icrs')\n",
    "print(test_coord.ra,test_coord.dec)\n",
    "print(test_coord.ra.wrap_angle)\n",
    "test_coord.ra.wrap_angle = ay_u.rad * np.pi\n",
    "print(test_coord.ra,test_coord.dec)\n",
    "print(test_coord.ra.wrap_angle)\n"
   ]
  },
  {
   "cell_type": "code",
   "execution_count": null,
   "metadata": {},
   "outputs": [],
   "source": []
  }
 ],
 "metadata": {
  "kernelspec": {
   "display_name": "Python 3",
   "language": "python",
   "name": "python3"
  },
  "language_info": {
   "codemirror_mode": {
    "name": "ipython",
    "version": 3
   },
   "file_extension": ".py",
   "mimetype": "text/x-python",
   "name": "python",
   "nbconvert_exporter": "python",
   "pygments_lexer": "ipython3",
   "version": "3.6.4"
  }
 },
 "nbformat": 4,
 "nbformat_minor": 2
}
